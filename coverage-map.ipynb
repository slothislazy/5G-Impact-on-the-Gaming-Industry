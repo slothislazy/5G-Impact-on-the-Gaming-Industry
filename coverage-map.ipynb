{
 "cells": [
  {
   "cell_type": "code",
   "execution_count": 1,
   "metadata": {},
   "outputs": [],
   "source": [
    "import pandas as pd\n",
    "import folium\n",
    "from folium.plugins import MarkerCluster"
   ]
  },
  {
   "cell_type": "code",
   "execution_count": 2,
   "metadata": {},
   "outputs": [],
   "source": [
    "df = pd.read_csv(\"dataset/5g_coverage_worldwide.csv\")\n",
    "\n",
    "df = df.drop_duplicates()\n",
    "df = df.dropna()"
   ]
  },
  {
   "cell_type": "code",
   "execution_count": 3,
   "metadata": {},
   "outputs": [
    {
     "name": "stdout",
     "output_type": "stream",
     "text": [
      "saved as 5g_coverage_map.html\n"
     ]
    }
   ],
   "source": [
    "map_center = [df[\"latitude\"].mean(), df[\"longitude\"].mean()]\n",
    "map_5g = folium.Map(\n",
    "    location=map_center,\n",
    "    zoom_start=2,\n",
    "    min_zoom=2,\n",
    "    max_zoom=12,\n",
    "    max_bounds=[[map_center[0] - 50, map_center[1] - 100], [map_center[0] + 50, map_center[1] + 100]],\n",
    "    tiles=\"cartodb positron\",\n",
    ")\n",
    "\n",
    "# Create a marker cluster\n",
    "marker_cluster = MarkerCluster().add_to(map_5g)\n",
    "\n",
    "# Add points to the cluster with popups\n",
    "for _, row in df.iterrows():\n",
    "    # Popup descrptions\n",
    "    popup_info = f\"\"\"\n",
    "    <b>Location:</b> ({row[\"latitude\"]}, {row[\"longitude\"]})<br>\n",
    "    <b>Operator:</b> {row.get('operator', 'N/A')}<br>\n",
    "    <b>City:</b> {row.get('city_name', 'N/A')}<br>\n",
    "    <b>Deployment Type:</b> {row.get('deployment_type', 'N/A')}<br>\n",
    "    <b>Status:</b> {row.get('status', 'N/A')}\n",
    "    \"\"\"\n",
    "    \n",
    "    folium.Marker(\n",
    "        location=[row[\"latitude\"], row[\"longitude\"]],\n",
    "        popup=popup_info,\n",
    "    ).add_to(marker_cluster)\n",
    "\n",
    "# Save map to an HTML file\n",
    "map_5g.save(\"templates/5g_coverage_map.html\")\n",
    "\n",
    "print(\"saved as 5g_coverage_map.html\")\n"
   ]
  }
 ],
 "metadata": {
  "kernelspec": {
   "display_name": "base",
   "language": "python",
   "name": "python3"
  },
  "language_info": {
   "codemirror_mode": {
    "name": "ipython",
    "version": 3
   },
   "file_extension": ".py",
   "mimetype": "text/x-python",
   "name": "python",
   "nbconvert_exporter": "python",
   "pygments_lexer": "ipython3",
   "version": "3.11.8"
  }
 },
 "nbformat": 4,
 "nbformat_minor": 2
}
